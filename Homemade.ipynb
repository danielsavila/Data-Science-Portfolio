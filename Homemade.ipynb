{
 "cells": [
  {
   "cell_type": "code",
   "execution_count": 1,
   "id": "46cebe78-6284-42dc-9c3a-8e702f0b3848",
   "metadata": {},
   "outputs": [],
   "source": [
    "import numpy as np\n",
    "import random\n",
    "import seaborn as sns\n",
    "import pandas as pd\n",
    "from sklearn.ensemble import RandomForestRegressor\n",
    "from sklearn.model_selection import train_test_split\n",
    "from sklearn.metrics import mean_squared_error, r2_score\n",
    "import matplotlib.pyplot as plt"
   ]
  },
  {
   "cell_type": "code",
   "execution_count": 2,
   "id": "e6a8a48c-5166-4a98-b90b-ad8ed9722c66",
   "metadata": {},
   "outputs": [],
   "source": [
    "def create_dataset_new(num_obs, num_features, corr = False):\n",
    "    dataset = []\n",
    "    \n",
    "    for features in range(num_features):\n",
    "        array = []\n",
    "        correlation_value = 0\n",
    "        variance = random.randrange(1, 50)\n",
    "        \n",
    "        for obs in range(num_obs):\n",
    "            value = random.randrange(-variance, variance)\n",
    "            \n",
    "            if corr == True:\n",
    "                if value >= 0:\n",
    "                    correlation_value += 2\n",
    "                else: \n",
    "                    correlation_value -= 2\n",
    "                value += correlation_value\n",
    "                array.append(value)\n",
    "                \n",
    "            else:\n",
    "                array.append(value)\n",
    "                \n",
    "        dataset.append(array)\n",
    "        \n",
    "    dataset = pd.DataFrame(dataset)\n",
    "    dataset = dataset.T\n",
    "    return dataset"
   ]
  },
  {
   "cell_type": "code",
   "execution_count": 3,
   "id": "3dc50f44-a29f-4540-bda2-9f93ef874713",
   "metadata": {},
   "outputs": [],
   "source": [
    "dataset = create_dataset_new(random.randrange(50,300), random.randrange(6,20), corr = True)"
   ]
  },
  {
   "cell_type": "code",
   "execution_count": 4,
   "id": "6a99eb42-73dc-4290-ab0f-dc8628582ba4",
   "metadata": {},
   "outputs": [
    {
     "data": {
      "text/html": [
       "<div>\n",
       "<style scoped>\n",
       "    .dataframe tbody tr th:only-of-type {\n",
       "        vertical-align: middle;\n",
       "    }\n",
       "\n",
       "    .dataframe tbody tr th {\n",
       "        vertical-align: top;\n",
       "    }\n",
       "\n",
       "    .dataframe thead th {\n",
       "        text-align: right;\n",
       "    }\n",
       "</style>\n",
       "<table border=\"1\" class=\"dataframe\">\n",
       "  <thead>\n",
       "    <tr style=\"text-align: right;\">\n",
       "      <th></th>\n",
       "      <th>0</th>\n",
       "      <th>1</th>\n",
       "      <th>2</th>\n",
       "      <th>3</th>\n",
       "      <th>4</th>\n",
       "      <th>5</th>\n",
       "      <th>6</th>\n",
       "      <th>7</th>\n",
       "      <th>8</th>\n",
       "      <th>9</th>\n",
       "      <th>10</th>\n",
       "      <th>11</th>\n",
       "    </tr>\n",
       "  </thead>\n",
       "  <tbody>\n",
       "    <tr>\n",
       "      <th>count</th>\n",
       "      <td>140.000000</td>\n",
       "      <td>140.000000</td>\n",
       "      <td>140.000000</td>\n",
       "      <td>140.000000</td>\n",
       "      <td>140.000000</td>\n",
       "      <td>140.000000</td>\n",
       "      <td>140.000000</td>\n",
       "      <td>140.000000</td>\n",
       "      <td>140.000000</td>\n",
       "      <td>140.000000</td>\n",
       "      <td>140.000000</td>\n",
       "      <td>140.000000</td>\n",
       "    </tr>\n",
       "    <tr>\n",
       "      <th>mean</th>\n",
       "      <td>-18.121429</td>\n",
       "      <td>-21.771429</td>\n",
       "      <td>-31.957143</td>\n",
       "      <td>19.635714</td>\n",
       "      <td>10.850000</td>\n",
       "      <td>-1.185714</td>\n",
       "      <td>-13.842857</td>\n",
       "      <td>0.385714</td>\n",
       "      <td>-0.878571</td>\n",
       "      <td>14.992857</td>\n",
       "      <td>10.735714</td>\n",
       "      <td>4.814286</td>\n",
       "    </tr>\n",
       "    <tr>\n",
       "      <th>std</th>\n",
       "      <td>26.790277</td>\n",
       "      <td>23.751817</td>\n",
       "      <td>25.721494</td>\n",
       "      <td>14.841227</td>\n",
       "      <td>29.507206</td>\n",
       "      <td>21.452838</td>\n",
       "      <td>29.582046</td>\n",
       "      <td>25.447813</td>\n",
       "      <td>27.711377</td>\n",
       "      <td>22.597350</td>\n",
       "      <td>24.732704</td>\n",
       "      <td>10.502885</td>\n",
       "    </tr>\n",
       "    <tr>\n",
       "      <th>min</th>\n",
       "      <td>-71.000000</td>\n",
       "      <td>-75.000000</td>\n",
       "      <td>-75.000000</td>\n",
       "      <td>-10.000000</td>\n",
       "      <td>-50.000000</td>\n",
       "      <td>-43.000000</td>\n",
       "      <td>-84.000000</td>\n",
       "      <td>-55.000000</td>\n",
       "      <td>-57.000000</td>\n",
       "      <td>-35.000000</td>\n",
       "      <td>-39.000000</td>\n",
       "      <td>-14.000000</td>\n",
       "    </tr>\n",
       "    <tr>\n",
       "      <th>25%</th>\n",
       "      <td>-41.000000</td>\n",
       "      <td>-41.000000</td>\n",
       "      <td>-55.000000</td>\n",
       "      <td>5.000000</td>\n",
       "      <td>-10.250000</td>\n",
       "      <td>-20.000000</td>\n",
       "      <td>-37.250000</td>\n",
       "      <td>-18.500000</td>\n",
       "      <td>-26.250000</td>\n",
       "      <td>-1.250000</td>\n",
       "      <td>-11.250000</td>\n",
       "      <td>-3.000000</td>\n",
       "    </tr>\n",
       "    <tr>\n",
       "      <th>50%</th>\n",
       "      <td>-20.500000</td>\n",
       "      <td>-23.000000</td>\n",
       "      <td>-30.000000</td>\n",
       "      <td>26.000000</td>\n",
       "      <td>11.000000</td>\n",
       "      <td>-1.500000</td>\n",
       "      <td>-15.000000</td>\n",
       "      <td>1.500000</td>\n",
       "      <td>-4.000000</td>\n",
       "      <td>17.000000</td>\n",
       "      <td>13.000000</td>\n",
       "      <td>3.000000</td>\n",
       "    </tr>\n",
       "    <tr>\n",
       "      <th>75%</th>\n",
       "      <td>9.000000</td>\n",
       "      <td>-3.000000</td>\n",
       "      <td>-14.000000</td>\n",
       "      <td>31.250000</td>\n",
       "      <td>34.000000</td>\n",
       "      <td>18.000000</td>\n",
       "      <td>5.000000</td>\n",
       "      <td>23.000000</td>\n",
       "      <td>24.000000</td>\n",
       "      <td>33.250000</td>\n",
       "      <td>29.250000</td>\n",
       "      <td>11.250000</td>\n",
       "    </tr>\n",
       "    <tr>\n",
       "      <th>max</th>\n",
       "      <td>29.000000</td>\n",
       "      <td>27.000000</td>\n",
       "      <td>41.000000</td>\n",
       "      <td>43.000000</td>\n",
       "      <td>75.000000</td>\n",
       "      <td>39.000000</td>\n",
       "      <td>47.000000</td>\n",
       "      <td>49.000000</td>\n",
       "      <td>52.000000</td>\n",
       "      <td>55.000000</td>\n",
       "      <td>59.000000</td>\n",
       "      <td>35.000000</td>\n",
       "    </tr>\n",
       "  </tbody>\n",
       "</table>\n",
       "</div>"
      ],
      "text/plain": [
       "               0           1           2           3           4           5   \\\n",
       "count  140.000000  140.000000  140.000000  140.000000  140.000000  140.000000   \n",
       "mean   -18.121429  -21.771429  -31.957143   19.635714   10.850000   -1.185714   \n",
       "std     26.790277   23.751817   25.721494   14.841227   29.507206   21.452838   \n",
       "min    -71.000000  -75.000000  -75.000000  -10.000000  -50.000000  -43.000000   \n",
       "25%    -41.000000  -41.000000  -55.000000    5.000000  -10.250000  -20.000000   \n",
       "50%    -20.500000  -23.000000  -30.000000   26.000000   11.000000   -1.500000   \n",
       "75%      9.000000   -3.000000  -14.000000   31.250000   34.000000   18.000000   \n",
       "max     29.000000   27.000000   41.000000   43.000000   75.000000   39.000000   \n",
       "\n",
       "               6           7           8           9           10          11  \n",
       "count  140.000000  140.000000  140.000000  140.000000  140.000000  140.000000  \n",
       "mean   -13.842857    0.385714   -0.878571   14.992857   10.735714    4.814286  \n",
       "std     29.582046   25.447813   27.711377   22.597350   24.732704   10.502885  \n",
       "min    -84.000000  -55.000000  -57.000000  -35.000000  -39.000000  -14.000000  \n",
       "25%    -37.250000  -18.500000  -26.250000   -1.250000  -11.250000   -3.000000  \n",
       "50%    -15.000000    1.500000   -4.000000   17.000000   13.000000    3.000000  \n",
       "75%      5.000000   23.000000   24.000000   33.250000   29.250000   11.250000  \n",
       "max     47.000000   49.000000   52.000000   55.000000   59.000000   35.000000  "
      ]
     },
     "execution_count": 4,
     "metadata": {},
     "output_type": "execute_result"
    }
   ],
   "source": [
    "dataset.describe()"
   ]
  },
  {
   "cell_type": "code",
   "execution_count": 5,
   "id": "59e84321-1391-4c21-803d-6ea8aff3dd66",
   "metadata": {},
   "outputs": [],
   "source": [
    "x = dataset.loc[:, 1:]\n",
    "y = dataset.loc[:, 0]"
   ]
  },
  {
   "cell_type": "code",
   "execution_count": 6,
   "id": "954c86cf-b4dc-4d0f-8ec5-9111ff5c9d14",
   "metadata": {},
   "outputs": [
    {
     "data": {
      "text/html": [
       "<style>#sk-container-id-1 {color: black;background-color: white;}#sk-container-id-1 pre{padding: 0;}#sk-container-id-1 div.sk-toggleable {background-color: white;}#sk-container-id-1 label.sk-toggleable__label {cursor: pointer;display: block;width: 100%;margin-bottom: 0;padding: 0.3em;box-sizing: border-box;text-align: center;}#sk-container-id-1 label.sk-toggleable__label-arrow:before {content: \"▸\";float: left;margin-right: 0.25em;color: #696969;}#sk-container-id-1 label.sk-toggleable__label-arrow:hover:before {color: black;}#sk-container-id-1 div.sk-estimator:hover label.sk-toggleable__label-arrow:before {color: black;}#sk-container-id-1 div.sk-toggleable__content {max-height: 0;max-width: 0;overflow: hidden;text-align: left;background-color: #f0f8ff;}#sk-container-id-1 div.sk-toggleable__content pre {margin: 0.2em;color: black;border-radius: 0.25em;background-color: #f0f8ff;}#sk-container-id-1 input.sk-toggleable__control:checked~div.sk-toggleable__content {max-height: 200px;max-width: 100%;overflow: auto;}#sk-container-id-1 input.sk-toggleable__control:checked~label.sk-toggleable__label-arrow:before {content: \"▾\";}#sk-container-id-1 div.sk-estimator input.sk-toggleable__control:checked~label.sk-toggleable__label {background-color: #d4ebff;}#sk-container-id-1 div.sk-label input.sk-toggleable__control:checked~label.sk-toggleable__label {background-color: #d4ebff;}#sk-container-id-1 input.sk-hidden--visually {border: 0;clip: rect(1px 1px 1px 1px);clip: rect(1px, 1px, 1px, 1px);height: 1px;margin: -1px;overflow: hidden;padding: 0;position: absolute;width: 1px;}#sk-container-id-1 div.sk-estimator {font-family: monospace;background-color: #f0f8ff;border: 1px dotted black;border-radius: 0.25em;box-sizing: border-box;margin-bottom: 0.5em;}#sk-container-id-1 div.sk-estimator:hover {background-color: #d4ebff;}#sk-container-id-1 div.sk-parallel-item::after {content: \"\";width: 100%;border-bottom: 1px solid gray;flex-grow: 1;}#sk-container-id-1 div.sk-label:hover label.sk-toggleable__label {background-color: #d4ebff;}#sk-container-id-1 div.sk-serial::before {content: \"\";position: absolute;border-left: 1px solid gray;box-sizing: border-box;top: 0;bottom: 0;left: 50%;z-index: 0;}#sk-container-id-1 div.sk-serial {display: flex;flex-direction: column;align-items: center;background-color: white;padding-right: 0.2em;padding-left: 0.2em;position: relative;}#sk-container-id-1 div.sk-item {position: relative;z-index: 1;}#sk-container-id-1 div.sk-parallel {display: flex;align-items: stretch;justify-content: center;background-color: white;position: relative;}#sk-container-id-1 div.sk-item::before, #sk-container-id-1 div.sk-parallel-item::before {content: \"\";position: absolute;border-left: 1px solid gray;box-sizing: border-box;top: 0;bottom: 0;left: 50%;z-index: -1;}#sk-container-id-1 div.sk-parallel-item {display: flex;flex-direction: column;z-index: 1;position: relative;background-color: white;}#sk-container-id-1 div.sk-parallel-item:first-child::after {align-self: flex-end;width: 50%;}#sk-container-id-1 div.sk-parallel-item:last-child::after {align-self: flex-start;width: 50%;}#sk-container-id-1 div.sk-parallel-item:only-child::after {width: 0;}#sk-container-id-1 div.sk-dashed-wrapped {border: 1px dashed gray;margin: 0 0.4em 0.5em 0.4em;box-sizing: border-box;padding-bottom: 0.4em;background-color: white;}#sk-container-id-1 div.sk-label label {font-family: monospace;font-weight: bold;display: inline-block;line-height: 1.2em;}#sk-container-id-1 div.sk-label-container {text-align: center;}#sk-container-id-1 div.sk-container {/* jupyter's `normalize.less` sets `[hidden] { display: none; }` but bootstrap.min.css set `[hidden] { display: none !important; }` so we also need the `!important` here to be able to override the default hidden behavior on the sphinx rendered scikit-learn.org. See: https://github.com/scikit-learn/scikit-learn/issues/21755 */display: inline-block !important;position: relative;}#sk-container-id-1 div.sk-text-repr-fallback {display: none;}</style><div id=\"sk-container-id-1\" class=\"sk-top-container\"><div class=\"sk-text-repr-fallback\"><pre>RandomForestRegressor(max_features=5)</pre><b>In a Jupyter environment, please rerun this cell to show the HTML representation or trust the notebook. <br />On GitHub, the HTML representation is unable to render, please try loading this page with nbviewer.org.</b></div><div class=\"sk-container\" hidden><div class=\"sk-item\"><div class=\"sk-estimator sk-toggleable\"><input class=\"sk-toggleable__control sk-hidden--visually\" id=\"sk-estimator-id-1\" type=\"checkbox\" checked><label for=\"sk-estimator-id-1\" class=\"sk-toggleable__label sk-toggleable__label-arrow\">RandomForestRegressor</label><div class=\"sk-toggleable__content\"><pre>RandomForestRegressor(max_features=5)</pre></div></div></div></div></div>"
      ],
      "text/plain": [
       "RandomForestRegressor(max_features=5)"
      ]
     },
     "execution_count": 6,
     "metadata": {},
     "output_type": "execute_result"
    }
   ],
   "source": [
    "model = RandomForestRegressor(max_features = 5)\n",
    "x_train, x_test, y_train, y_test = train_test_split(x,y,test_size = .25)\n",
    "model.fit(x_train,y_train)"
   ]
  },
  {
   "cell_type": "code",
   "execution_count": 7,
   "id": "de6dea16-b112-45d5-ace1-35b919539033",
   "metadata": {},
   "outputs": [],
   "source": [
    "results = model.predict(x_test)"
   ]
  },
  {
   "cell_type": "code",
   "execution_count": 8,
   "id": "a393a58c-181d-4718-8014-f76d10438cbf",
   "metadata": {},
   "outputs": [
    {
     "name": "stdout",
     "output_type": "stream",
     "text": [
      "714.9827457142856 -0.17779916988956956\n"
     ]
    }
   ],
   "source": [
    "mse = mean_squared_error(y_test, results)\n",
    "r2 = r2_score(y_test, results)\n",
    "\n",
    "print(mse, r2)"
   ]
  },
  {
   "cell_type": "code",
   "execution_count": 9,
   "id": "c6423d8c-f9b7-42a6-820c-265aff371549",
   "metadata": {},
   "outputs": [],
   "source": [
    "error = y_test - results"
   ]
  },
  {
   "cell_type": "code",
   "execution_count": 10,
   "id": "0c6b1308-d5d0-493a-93be-7a14d67d18d7",
   "metadata": {},
   "outputs": [
    {
     "data": {
      "text/plain": [
       "<Axes: ylabel='0'>"
      ]
     },
     "execution_count": 10,
     "metadata": {},
     "output_type": "execute_result"
    },
    {
     "data": {
      "image/png": "[encoded data removed]",
      "text/plain": [
       "<Figure size 640x480 with 1 Axes>"
      ]
     },
     "metadata": {},
     "output_type": "display_data"
    }
   ],
   "source": [
    "sns.scatterplot(error)"
   ]
  },
  {
   "cell_type": "code",
   "execution_count": null,
   "id": "49415455-2b57-42b7-a149-ebaaadd0b0b8",
   "metadata": {},
   "outputs": [],
   "source": []
  }
 ],
 "metadata": {
  "kernelspec": {
   "display_name": "Python 3 (ipykernel)",
   "language": "python",
   "name": "python3"
  },
  "language_info": {
   "codemirror_mode": {
    "name": "ipython",
    "version": 3
   },
   "file_extension": ".py",
   "mimetype": "text/x-python",
   "name": "python",
   "nbconvert_exporter": "python",
   "pygments_lexer": "ipython3",
   "version": "3.11.7"
  }
 },
 "nbformat": 4,
 "nbformat_minor": 5
}
