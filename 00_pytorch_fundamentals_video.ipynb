{
  "nbformat": 4,
  "nbformat_minor": 0,
  "metadata": {
    "colab": {
      "provenance": [],
      "gpuType": "T4"
    },
    "kernelspec": {
      "name": "python3",
      "display_name": "Python 3"
    },
    "language_info": {
      "name": "python"
    },
    "accelerator": "GPU"
  },
  "cells": [
    {
      "cell_type": "code",
      "execution_count": 2,
      "metadata": {
        "colab": {
          "base_uri": "https://localhost:8080/"
        },
        "id": "LoBDuYaS6eQx",
        "outputId": "aa3f8c49-67e0-4818-8bc4-f8434f7a4406"
      },
      "outputs": [
        {
          "output_type": "stream",
          "name": "stdout",
          "text": [
            "2.4.0+cu121\n"
          ]
        }
      ],
      "source": [
        "## 00. PyTorch Fudnamentals\n",
        "\n",
        "import torch\n",
        "import pandas as pd\n",
        "import numpy as np\n",
        "import matplotlib as plt\n",
        "print(torch.__version__)"
      ]
    },
    {
      "cell_type": "code",
      "source": [
        "## Introduction to Tensors\n",
        "\n",
        "## Creating tensors\n"
      ],
      "metadata": {
        "id": "AQi4kX566sgf"
      },
      "execution_count": 3,
      "outputs": []
    },
    {
      "cell_type": "code",
      "source": [
        "# scalar\n",
        "scalar = torch.tensor(7)\n",
        "scalar"
      ],
      "metadata": {
        "colab": {
          "base_uri": "https://localhost:8080/"
        },
        "id": "lisCMHi9-nhK",
        "outputId": "120b4ad5-2d35-4cb4-c890-601050ded936"
      },
      "execution_count": 4,
      "outputs": [
        {
          "output_type": "execute_result",
          "data": {
            "text/plain": [
              "tensor(7)"
            ]
          },
          "metadata": {},
          "execution_count": 4
        }
      ]
    },
    {
      "cell_type": "code",
      "source": [
        "scalar.ndim"
      ],
      "metadata": {
        "colab": {
          "base_uri": "https://localhost:8080/"
        },
        "id": "5kOVs19S-vjE",
        "outputId": "5baf9507-ad6c-4d30-a372-972c66ba53df"
      },
      "execution_count": 5,
      "outputs": [
        {
          "output_type": "execute_result",
          "data": {
            "text/plain": [
              "0"
            ]
          },
          "metadata": {},
          "execution_count": 5
        }
      ]
    },
    {
      "cell_type": "code",
      "source": [
        "scalar.item()"
      ],
      "metadata": {
        "colab": {
          "base_uri": "https://localhost:8080/"
        },
        "id": "Lk07YD-z_5B8",
        "outputId": "424908b4-9709-4923-dee4-a10ba1023bae"
      },
      "execution_count": 6,
      "outputs": [
        {
          "output_type": "execute_result",
          "data": {
            "text/plain": [
              "7"
            ]
          },
          "metadata": {},
          "execution_count": 6
        }
      ]
    },
    {
      "cell_type": "code",
      "source": [
        "# Vectors\n",
        "vector = torch.tensor([7,7])"
      ],
      "metadata": {
        "id": "LJWDRP_7_8kE"
      },
      "execution_count": 7,
      "outputs": []
    },
    {
      "cell_type": "code",
      "source": [
        "vector.ndim"
      ],
      "metadata": {
        "colab": {
          "base_uri": "https://localhost:8080/"
        },
        "id": "Hbzrcqo6ADSv",
        "outputId": "d3fb6bb6-df47-4e81-9d68-56b998403cf2"
      },
      "execution_count": 8,
      "outputs": [
        {
          "output_type": "execute_result",
          "data": {
            "text/plain": [
              "1"
            ]
          },
          "metadata": {},
          "execution_count": 8
        }
      ]
    },
    {
      "cell_type": "code",
      "source": [
        "vector.shape"
      ],
      "metadata": {
        "colab": {
          "base_uri": "https://localhost:8080/"
        },
        "id": "OHzNTqkZAERr",
        "outputId": "0187dbdc-92d7-442b-ec80-86c48d081266"
      },
      "execution_count": 9,
      "outputs": [
        {
          "output_type": "execute_result",
          "data": {
            "text/plain": [
              "torch.Size([2])"
            ]
          },
          "metadata": {},
          "execution_count": 9
        }
      ]
    },
    {
      "cell_type": "code",
      "source": [
        "# MATRIX\n",
        "MATRIX = torch.tensor([[7,8],\n",
        "                       [9,10]])"
      ],
      "metadata": {
        "id": "K37K4KvhAOO4"
      },
      "execution_count": 10,
      "outputs": []
    },
    {
      "cell_type": "code",
      "source": [
        "MATRIX.shape"
      ],
      "metadata": {
        "colab": {
          "base_uri": "https://localhost:8080/"
        },
        "id": "kYx8T337AXir",
        "outputId": "fa4481f4-34e3-4a24-8908-bdcebad5c967"
      },
      "execution_count": 11,
      "outputs": [
        {
          "output_type": "execute_result",
          "data": {
            "text/plain": [
              "torch.Size([2, 2])"
            ]
          },
          "metadata": {},
          "execution_count": 11
        }
      ]
    },
    {
      "cell_type": "code",
      "source": [
        "MATRIX.ndim"
      ],
      "metadata": {
        "colab": {
          "base_uri": "https://localhost:8080/"
        },
        "id": "6mGn2J1uAbFl",
        "outputId": "3842b635-076e-46aa-b4d6-9f06060dc2f3"
      },
      "execution_count": 12,
      "outputs": [
        {
          "output_type": "execute_result",
          "data": {
            "text/plain": [
              "2"
            ]
          },
          "metadata": {},
          "execution_count": 12
        }
      ]
    },
    {
      "cell_type": "code",
      "source": [
        "MATRIX[0,1]"
      ],
      "metadata": {
        "colab": {
          "base_uri": "https://localhost:8080/"
        },
        "id": "WdQSChRIAfpl",
        "outputId": "a895f5ff-df5c-4020-d16c-a4da30a4dad3"
      },
      "execution_count": 13,
      "outputs": [
        {
          "output_type": "execute_result",
          "data": {
            "text/plain": [
              "tensor(8)"
            ]
          },
          "metadata": {},
          "execution_count": 13
        }
      ]
    },
    {
      "cell_type": "code",
      "source": [
        "# TENSOR\n",
        "TENSOR = torch.tensor([[1,2,3,4],\n",
        "                        [4,5,6,4],\n",
        "                        [7,8,9,4],\n",
        "                        [11,12,13,4]])\n",
        "TENSOR"
      ],
      "metadata": {
        "colab": {
          "base_uri": "https://localhost:8080/"
        },
        "id": "Z5sGjIZzAhbJ",
        "outputId": "df557a3e-8ccb-41e9-ca34-6d2088dcf85c"
      },
      "execution_count": 14,
      "outputs": [
        {
          "output_type": "execute_result",
          "data": {
            "text/plain": [
              "tensor([[ 1,  2,  3,  4],\n",
              "        [ 4,  5,  6,  4],\n",
              "        [ 7,  8,  9,  4],\n",
              "        [11, 12, 13,  4]])"
            ]
          },
          "metadata": {},
          "execution_count": 14
        }
      ]
    },
    {
      "cell_type": "code",
      "source": [
        "TENSOR.ndim"
      ],
      "metadata": {
        "colab": {
          "base_uri": "https://localhost:8080/"
        },
        "id": "ch5SHSP4AxoB",
        "outputId": "e999c1e7-9f51-41d4-e33e-c5818bc1f579"
      },
      "execution_count": 15,
      "outputs": [
        {
          "output_type": "execute_result",
          "data": {
            "text/plain": [
              "2"
            ]
          },
          "metadata": {},
          "execution_count": 15
        }
      ]
    },
    {
      "cell_type": "code",
      "source": [
        "TENSOR.shape\n",
        "#This is saying we have 1, 3x3 tensor."
      ],
      "metadata": {
        "colab": {
          "base_uri": "https://localhost:8080/"
        },
        "id": "O0KK6JJBAySC",
        "outputId": "0ebc8a40-7cac-4a51-ad69-e15eb95efecd"
      },
      "execution_count": 16,
      "outputs": [
        {
          "output_type": "execute_result",
          "data": {
            "text/plain": [
              "torch.Size([4, 4])"
            ]
          },
          "metadata": {},
          "execution_count": 16
        }
      ]
    },
    {
      "cell_type": "markdown",
      "source": [
        "## Random Tensors\n",
        "Why random tensors?\n",
        "\n",
        "Random tensors are important because the way that many neural networks learn is that they start with tensors full of random numbers and then adjust those random numbers to better represent the data.\n",
        "\n",
        "`Start with random numbers -> look at data -> update random numbers -> look at data -> update random numbers`\n",
        "\n",
        "\n"
      ],
      "metadata": {
        "id": "-edSoLPWD3IQ"
      }
    },
    {
      "cell_type": "code",
      "source": [
        "# creating a random tensor\n",
        "random_tensor = torch.rand(3, 4)\n",
        "random_tensor"
      ],
      "metadata": {
        "colab": {
          "base_uri": "https://localhost:8080/"
        },
        "id": "JI139P1dA26L",
        "outputId": "56b66206-d622-4846-ae7a-c682cc721d1e"
      },
      "execution_count": 17,
      "outputs": [
        {
          "output_type": "execute_result",
          "data": {
            "text/plain": [
              "tensor([[0.0959, 0.9294, 0.9727, 0.6223],\n",
              "        [0.9284, 0.1347, 0.5981, 0.3344],\n",
              "        [0.8331, 0.2417, 0.6859, 0.2855]])"
            ]
          },
          "metadata": {},
          "execution_count": 17
        }
      ]
    },
    {
      "cell_type": "code",
      "source": [
        "# create a random tensor with a similar shape to an image tensor\n",
        "random_image_size_tensor = torch.rand(size =(224,224,3)) # height, width, color channel\n",
        "random_image_size_tensor.shape, random_image_size_tensor.ndim"
      ],
      "metadata": {
        "colab": {
          "base_uri": "https://localhost:8080/"
        },
        "id": "0rMLlD__EUHa",
        "outputId": "9f6d300c-d7d3-495e-eb86-18c00bf7570c"
      },
      "execution_count": 18,
      "outputs": [
        {
          "output_type": "execute_result",
          "data": {
            "text/plain": [
              "(torch.Size([224, 224, 3]), 3)"
            ]
          },
          "metadata": {},
          "execution_count": 18
        }
      ]
    },
    {
      "cell_type": "code",
      "source": [
        "### Zeros and Ones\n",
        "# Create a tensor of all zeros\n",
        "zero = torch.zeros(3,4)"
      ],
      "metadata": {
        "id": "AbrtJVlGEzpI"
      },
      "execution_count": 19,
      "outputs": []
    },
    {
      "cell_type": "code",
      "source": [
        "\n",
        "zero * random_tensor"
      ],
      "metadata": {
        "colab": {
          "base_uri": "https://localhost:8080/"
        },
        "id": "1tMvIcKGGJyB",
        "outputId": "3e003971-b20b-415e-f79c-88f32cab9724"
      },
      "execution_count": 20,
      "outputs": [
        {
          "output_type": "execute_result",
          "data": {
            "text/plain": [
              "tensor([[0., 0., 0., 0.],\n",
              "        [0., 0., 0., 0.],\n",
              "        [0., 0., 0., 0.]])"
            ]
          },
          "metadata": {},
          "execution_count": 20
        }
      ]
    },
    {
      "cell_type": "code",
      "source": [
        "#tensor of all ones\n",
        "ones = torch.ones(3,4)\n",
        "ones"
      ],
      "metadata": {
        "colab": {
          "base_uri": "https://localhost:8080/"
        },
        "id": "9PX-fzCeGLrC",
        "outputId": "15fda346-3743-480f-f9b0-ee38d236c13b"
      },
      "execution_count": 21,
      "outputs": [
        {
          "output_type": "execute_result",
          "data": {
            "text/plain": [
              "tensor([[1., 1., 1., 1.],\n",
              "        [1., 1., 1., 1.],\n",
              "        [1., 1., 1., 1.]])"
            ]
          },
          "metadata": {},
          "execution_count": 21
        }
      ]
    },
    {
      "cell_type": "code",
      "source": [
        "# this is the default data type, you can change the data type. see documentation\n",
        "torch.float32"
      ],
      "metadata": {
        "colab": {
          "base_uri": "https://localhost:8080/"
        },
        "id": "aqSdH1iDGSqM",
        "outputId": "882da8e4-234f-48fd-86cd-620b635dcad8"
      },
      "execution_count": 22,
      "outputs": [
        {
          "output_type": "execute_result",
          "data": {
            "text/plain": [
              "torch.float32"
            ]
          },
          "metadata": {},
          "execution_count": 22
        }
      ]
    },
    {
      "cell_type": "code",
      "source": [
        "## Creating a range of tensors and tensors-like\n",
        "# use torch.range()\n",
        "ones_to_ten = torch.arange(0,10)\n",
        "ones_to_ten"
      ],
      "metadata": {
        "colab": {
          "base_uri": "https://localhost:8080/"
        },
        "id": "3Kc4GJVMGbWz",
        "outputId": "e5ed3f23-d6fb-473c-81ff-b38e3d8362a1"
      },
      "execution_count": 23,
      "outputs": [
        {
          "output_type": "execute_result",
          "data": {
            "text/plain": [
              "tensor([0, 1, 2, 3, 4, 5, 6, 7, 8, 9])"
            ]
          },
          "metadata": {},
          "execution_count": 23
        }
      ]
    },
    {
      "cell_type": "code",
      "source": [
        "list = range(0,10)\n",
        "tensor_list = torch.tensor(list)\n",
        "tensor_list"
      ],
      "metadata": {
        "colab": {
          "base_uri": "https://localhost:8080/"
        },
        "id": "Db9SMAsXGjmh",
        "outputId": "7bf618b5-0539-49e5-e752-69ab3e5465d1"
      },
      "execution_count": 24,
      "outputs": [
        {
          "output_type": "execute_result",
          "data": {
            "text/plain": [
              "tensor([0, 1, 2, 3, 4, 5, 6, 7, 8, 9])"
            ]
          },
          "metadata": {},
          "execution_count": 24
        }
      ]
    },
    {
      "cell_type": "code",
      "source": [],
      "metadata": {
        "id": "Plr1ikPbHLDe"
      },
      "execution_count": 24,
      "outputs": []
    },
    {
      "cell_type": "markdown",
      "source": [
        "## Tensor Datatypes\n",
        "\n",
        "**Note** Tensor Datatype is one of the 3 big errors that you will run into with Pytorch and deep learning:\n",
        "1. Tensors not right dataype\n",
        "2. Tensors not right shape\n",
        "3. Tensors not on right device"
      ],
      "metadata": {
        "id": "9qUtOChcJfvL"
      }
    },
    {
      "cell_type": "code",
      "source": [
        "# Creating tensors like\n",
        "ten_zeros = torch.zeros_like(input = ones_to_ten)\n",
        "ten_zeros\n"
      ],
      "metadata": {
        "colab": {
          "base_uri": "https://localhost:8080/"
        },
        "id": "cd_trQpcGy4L",
        "outputId": "4018ac71-312f-4e59-85ea-a85b6dbc5eb8"
      },
      "execution_count": 25,
      "outputs": [
        {
          "output_type": "execute_result",
          "data": {
            "text/plain": [
              "tensor([0, 0, 0, 0, 0, 0, 0, 0, 0, 0])"
            ]
          },
          "metadata": {},
          "execution_count": 25
        }
      ]
    },
    {
      "cell_type": "code",
      "source": [
        "# float 32 tensor\n",
        "float_32_tensor = torch.tensor([3,3,3],\n",
        "                               dtype = None, #change the datatype\n",
        "                               device = \"cpu\", # you need to have the tensor on the right device, either cpu or cuda (gpu)\n",
        "                               requires_grad = False, # this tracks the mathematical changes as the deep learning algorthm adjusts\n",
        ")\n",
        "\n",
        "float_32_tensor"
      ],
      "metadata": {
        "colab": {
          "base_uri": "https://localhost:8080/"
        },
        "id": "a5y2xovyGqRM",
        "outputId": "ab6a6df2-2373-42b4-de39-a514e3942d0e"
      },
      "execution_count": 26,
      "outputs": [
        {
          "output_type": "execute_result",
          "data": {
            "text/plain": [
              "tensor([3, 3, 3])"
            ]
          },
          "metadata": {},
          "execution_count": 26
        }
      ]
    },
    {
      "cell_type": "code",
      "source": [
        "int_32_tensor = torch.tensor([3,6,9], dtype = torch.int32)\n",
        "float_32_tensor * int_32_tensor"
      ],
      "metadata": {
        "colab": {
          "base_uri": "https://localhost:8080/"
        },
        "id": "hLg0yw7rI2wz",
        "outputId": "c51aaa03-8f8f-4d19-fc9a-455c99c12801"
      },
      "execution_count": 27,
      "outputs": [
        {
          "output_type": "execute_result",
          "data": {
            "text/plain": [
              "tensor([ 9, 18, 27])"
            ]
          },
          "metadata": {},
          "execution_count": 27
        }
      ]
    },
    {
      "cell_type": "code",
      "source": [],
      "metadata": {
        "id": "Lbpc_UBlLnKy"
      },
      "execution_count": 27,
      "outputs": []
    },
    {
      "cell_type": "markdown",
      "source": [
        "## Getting information from our tensor attributes\n",
        "\n",
        "1. Tensors not right dataype\n",
        "  a. to do get datatype from a tensor, you can use `tensor.dtype`\n",
        "\n",
        "2. Tensors not right shape\n",
        "  a. to get the shape from a tensor, you can use `tensor.shape`\n",
        "\n",
        "3. Tensors not on right device\n",
        "  a. to get device from a tensor, you can use `tensor.device`\n"
      ],
      "metadata": {
        "id": "ipu4W_mXMBk7"
      }
    },
    {
      "cell_type": "code",
      "source": [
        "# Finding details about a tensor\n",
        "rand = torch.rand(3,4)\n",
        "print(rand)\n",
        "print(f\"Datateyp of tensor: {rand.dtype}\")\n",
        "print(f\"Shape of tensor: {rand.shape}\")\n",
        "print(f\"Device tensor is on: {rand.device}\")"
      ],
      "metadata": {
        "colab": {
          "base_uri": "https://localhost:8080/"
        },
        "id": "Ow0pLIQpMb0s",
        "outputId": "64622efb-ec99-4f76-ca30-b115e13e2140"
      },
      "execution_count": 28,
      "outputs": [
        {
          "output_type": "stream",
          "name": "stdout",
          "text": [
            "tensor([[0.4388, 0.8799, 0.3686, 0.1532],\n",
            "        [0.2816, 0.3867, 0.9232, 0.5654],\n",
            "        [0.7539, 0.4968, 0.6850, 0.4100]])\n",
            "Datateyp of tensor: torch.float32\n",
            "Shape of tensor: torch.Size([3, 4])\n",
            "Device tensor is on: cpu\n"
          ]
        }
      ]
    },
    {
      "cell_type": "code",
      "source": [
        "### Manipulating Tensors (tensor operations)\n"
      ],
      "metadata": {
        "id": "zj5798QbMegX"
      },
      "execution_count": 29,
      "outputs": []
    },
    {
      "cell_type": "markdown",
      "source": [
        "tensor opporations include:\n",
        "1. addition\n",
        "2. subtraction\n",
        "3. multiplication (element-wise)\n",
        "4. division\n",
        "5. matrix multiplication"
      ],
      "metadata": {
        "id": "MjZdfO0mNNjn"
      }
    },
    {
      "cell_type": "code",
      "source": [
        "# create a tensor\n",
        "tensor = torch.tensor([1,2,3])\n",
        "tensor + 10"
      ],
      "metadata": {
        "colab": {
          "base_uri": "https://localhost:8080/"
        },
        "id": "FBFzHUFsNTvl",
        "outputId": "f7c2efdc-646b-49b9-daf1-22d3b57fc759"
      },
      "execution_count": 30,
      "outputs": [
        {
          "output_type": "execute_result",
          "data": {
            "text/plain": [
              "tensor([11, 12, 13])"
            ]
          },
          "metadata": {},
          "execution_count": 30
        }
      ]
    },
    {
      "cell_type": "code",
      "source": [
        "tensor * 10"
      ],
      "metadata": {
        "colab": {
          "base_uri": "https://localhost:8080/"
        },
        "id": "e-kjPeMuNhTc",
        "outputId": "228099e4-68b0-4896-e86f-267f75ef17f2"
      },
      "execution_count": 31,
      "outputs": [
        {
          "output_type": "execute_result",
          "data": {
            "text/plain": [
              "tensor([10, 20, 30])"
            ]
          },
          "metadata": {},
          "execution_count": 31
        }
      ]
    },
    {
      "cell_type": "code",
      "source": [
        "# Matrix Multiplication (dot product)\n",
        "torch.matmul(tensor, tensor) # use .matmul because it is so much faster"
      ],
      "metadata": {
        "colab": {
          "base_uri": "https://localhost:8080/"
        },
        "id": "VtrqS5gINik_",
        "outputId": "b245b0f7-37ac-4afa-98ee-5588841b38a0"
      },
      "execution_count": 32,
      "outputs": [
        {
          "output_type": "execute_result",
          "data": {
            "text/plain": [
              "tensor(14)"
            ]
          },
          "metadata": {},
          "execution_count": 32
        }
      ]
    },
    {
      "cell_type": "code",
      "source": [
        "# one of the most common errors in deep learning: shape errors\n",
        "# To satisfy matrix multiplication,\n",
        "#  1. the inner dimensions must match.\n",
        "#  2. the resulting matrix is the shape of the outer dimensions\n"
      ],
      "metadata": {
        "id": "GdD7xOnDOQds"
      },
      "execution_count": 33,
      "outputs": []
    },
    {
      "cell_type": "markdown",
      "source": [
        "To fix our tensor shape issues, we can manipulate the shape of one of our tensors by using a **transpose**.\n",
        "\n",
        "A **transpose** switches the axis or dimensions of a given tensor.\n",
        "\n",
        "You can fix this by using the\n",
        "``tensor.T``\n",
        "code."
      ],
      "metadata": {
        "id": "p15vY1vy2F2v"
      }
    },
    {
      "cell_type": "markdown",
      "source": [
        "if you are interested in finding the index\n",
        "\n",
        "```\n",
        "# This is formatted as code\n",
        "```\n",
        "\n",
        "position of the largest value (max) or the index position of the smallest value (min), you would use the\n",
        "\n",
        "\n",
        "`` torch.argmin(tensorname)`` or ``(tensorname).argmin()``\n",
        "\n",
        "\n",
        "`` torch.argmax(tensorname)`` or ``(tensorname).argmin()`` function,\n",
        "\n",
        "and the output will be the index  position that the max and min are located in"
      ],
      "metadata": {
        "id": "H-E49OHa5Cy9"
      }
    },
    {
      "cell_type": "code",
      "source": [
        "torch.argmin(rand), rand.argmin()"
      ],
      "metadata": {
        "colab": {
          "base_uri": "https://localhost:8080/"
        },
        "id": "Gm_a8eIn5Ckv",
        "outputId": "d8e68204-aa19-4f96-df37-91f3e3f86991"
      },
      "execution_count": 34,
      "outputs": [
        {
          "output_type": "execute_result",
          "data": {
            "text/plain": [
              "(tensor(3), tensor(3))"
            ]
          },
          "metadata": {},
          "execution_count": 34
        }
      ]
    },
    {
      "cell_type": "markdown",
      "source": [
        "you can use the squeeze and unsqueeze functions to remove singular or add singular dimensions to a tensor"
      ],
      "metadata": {
        "id": "QVBrykNR-S27"
      }
    },
    {
      "cell_type": "code",
      "source": [
        "# working with squeeze and unsqueeze\n",
        "\n",
        "print(f\"orginal tensor: {rand}\")\n",
        "print(f\"original tensor shape: {rand.shape}\")\n",
        "\n",
        "print(f\"unsqueezed tensor: {rand.unsqueeze(dim=0)}\")\n",
        "print(f\"unsqueezed tensor shape: {rand.unsqueeze(dim=0).shape}\")\n",
        "\n",
        "print(f\"squeezed tensor: {rand.squeeze()}\") #notice how this doesnt do anything because there is no single dimension in the \"rand\" tensor\n",
        "print(f\"squeezed tensor shape: {rand.squeeze().shape}\")"
      ],
      "metadata": {
        "colab": {
          "base_uri": "https://localhost:8080/"
        },
        "id": "ePRxUovW-O5R",
        "outputId": "f700611d-eaff-43ee-811f-74effd2cd072"
      },
      "execution_count": 35,
      "outputs": [
        {
          "output_type": "stream",
          "name": "stdout",
          "text": [
            "orginal tensor: tensor([[0.4388, 0.8799, 0.3686, 0.1532],\n",
            "        [0.2816, 0.3867, 0.9232, 0.5654],\n",
            "        [0.7539, 0.4968, 0.6850, 0.4100]])\n",
            "original tensor shape: torch.Size([3, 4])\n",
            "unsqueezed tensor: tensor([[[0.4388, 0.8799, 0.3686, 0.1532],\n",
            "         [0.2816, 0.3867, 0.9232, 0.5654],\n",
            "         [0.7539, 0.4968, 0.6850, 0.4100]]])\n",
            "unsqueezed tensor shape: torch.Size([1, 3, 4])\n",
            "squeezed tensor: tensor([[0.4388, 0.8799, 0.3686, 0.1532],\n",
            "        [0.2816, 0.3867, 0.9232, 0.5654],\n",
            "        [0.7539, 0.4968, 0.6850, 0.4100]])\n",
            "squeezed tensor shape: torch.Size([3, 4])\n"
          ]
        }
      ]
    },
    {
      "cell_type": "code",
      "source": [
        "# practicing permuting tensors, where permuting changes the dimensions of a tensor\n",
        "\n",
        "x_original = torch.rand(size = (224, 224, 3))    # height, width, color_channels\n",
        "x_permuted = x_original.permute(2, 0, 1)\n",
        "\n",
        "print(f\"x_original.shape: {x_original.shape}\")\n",
        "print(f\"x_permuted.shape: {x_permuted.shape}\")"
      ],
      "metadata": {
        "id": "hqFqGBf3-kH3",
        "colab": {
          "base_uri": "https://localhost:8080/"
        },
        "outputId": "3351793d-7029-4322-80f9-c6832fb2ce6d"
      },
      "execution_count": 55,
      "outputs": [
        {
          "output_type": "stream",
          "name": "stdout",
          "text": [
            "x_original.shape: torch.Size([224, 224, 3])\n",
            "x_permuted.shape: torch.Size([3, 224, 224])\n"
          ]
        }
      ]
    },
    {
      "cell_type": "code",
      "source": [
        "x_original[0,0,1] = 0\n",
        "x_permuted = x_original.permute(2,0,1)\n",
        "x_permuted"
      ],
      "metadata": {
        "colab": {
          "base_uri": "https://localhost:8080/"
        },
        "id": "wmG9C8q0nT_W",
        "outputId": "d7d8d4e5-725c-4956-8fec-029c9d921a98"
      },
      "execution_count": 87,
      "outputs": [
        {
          "output_type": "execute_result",
          "data": {
            "text/plain": [
              "tensor([[[0.0000, 0.0000, 0.0000,  ..., 0.4674, 0.7835, 0.3802],\n",
              "         [0.0000, 0.8793, 0.0000,  ..., 0.3606, 0.7551, 0.3724],\n",
              "         [0.0000, 0.7656, 0.9898,  ..., 0.1995, 0.2499, 0.5861],\n",
              "         ...,\n",
              "         [0.5350, 0.2417, 0.7391,  ..., 0.0790, 0.1356, 0.0965],\n",
              "         [0.5311, 0.8279, 0.2427,  ..., 0.2548, 0.2445, 0.4999],\n",
              "         [0.8317, 0.1166, 0.1203,  ..., 0.1739, 0.6254, 0.2778]],\n",
              "\n",
              "        [[0.0000, 0.8694, 0.7754,  ..., 0.6358, 0.5378, 0.4567],\n",
              "         [0.8548, 0.1109, 0.6076,  ..., 0.4316, 0.2639, 0.8283],\n",
              "         [0.7521, 0.7870, 0.3140,  ..., 0.4175, 0.8251, 0.3298],\n",
              "         ...,\n",
              "         [0.7806, 0.3225, 0.4640,  ..., 0.7589, 0.4476, 0.1352],\n",
              "         [0.0630, 0.3099, 0.7720,  ..., 0.7312, 0.6360, 0.4469],\n",
              "         [0.0833, 0.0662, 0.5346,  ..., 0.6535, 0.2979, 0.9560]],\n",
              "\n",
              "        [[0.6938, 0.7631, 0.0021,  ..., 0.1515, 0.1000, 0.6702],\n",
              "         [0.4158, 0.5057, 0.8214,  ..., 0.0205, 0.2808, 0.0295],\n",
              "         [0.9789, 0.9484, 0.0857,  ..., 0.5719, 0.5403, 0.6106],\n",
              "         ...,\n",
              "         [0.2849, 0.1055, 0.8144,  ..., 0.3969, 0.9574, 0.8255],\n",
              "         [0.9270, 0.5629, 0.4680,  ..., 0.3578, 0.9194, 0.3500],\n",
              "         [0.7029, 0.1282, 0.2908,  ..., 0.8588, 0.3767, 0.9148]]])"
            ]
          },
          "metadata": {},
          "execution_count": 87
        }
      ]
    },
    {
      "cell_type": "code",
      "source": [],
      "metadata": {
        "id": "iub_7l5OoFlj"
      },
      "execution_count": 85,
      "outputs": []
    },
    {
      "cell_type": "markdown",
      "source": [
        "## Indexing (selecting data from tensors)\n",
        "Indexing with Pytorch is almost identical to indexing with Numpy\n"
      ],
      "metadata": {
        "id": "BXilj8s-pHqf"
      }
    },
    {
      "cell_type": "code",
      "source": [
        "# creating a tensor\n",
        "import torch #so that we can start the notebook from here next time instead of running the whole thing\n",
        "\n",
        "x = torch.arange(1,10,1).reshape(1,3,3) #reshape works by (dimensions, row, columns)\n",
        "x"
      ],
      "metadata": {
        "colab": {
          "base_uri": "https://localhost:8080/"
        },
        "id": "IgR9SGLupQRZ",
        "outputId": "ebf427d3-c248-4777-864d-3819e97e1291"
      },
      "execution_count": 100,
      "outputs": [
        {
          "output_type": "execute_result",
          "data": {
            "text/plain": [
              "tensor([[[1, 2, 3],\n",
              "         [4, 5, 6],\n",
              "         [7, 8, 9]]])"
            ]
          },
          "metadata": {},
          "execution_count": 100
        }
      ]
    },
    {
      "cell_type": "code",
      "source": [
        "# lets index on the middle bracket, dimension 1\n",
        "\n",
        "x[0,0]"
      ],
      "metadata": {
        "colab": {
          "base_uri": "https://localhost:8080/"
        },
        "id": "GFUmgr94pYnl",
        "outputId": "c68dab31-ac5d-46cf-c5b3-c288b8502f5a"
      },
      "execution_count": 104,
      "outputs": [
        {
          "output_type": "execute_result",
          "data": {
            "text/plain": [
              "tensor([1, 2, 3])"
            ]
          },
          "metadata": {},
          "execution_count": 104
        }
      ]
    },
    {
      "cell_type": "code",
      "source": [
        "# now lets index on the column dimension\n",
        "\n",
        "x[0, 1, 2]"
      ],
      "metadata": {
        "colab": {
          "base_uri": "https://localhost:8080/"
        },
        "id": "uLey6zwJp8Tt",
        "outputId": "51e9b602-e2b3-4271-f1ed-11441ba67e79"
      },
      "execution_count": 116,
      "outputs": [
        {
          "output_type": "execute_result",
          "data": {
            "text/plain": [
              "tensor(6)"
            ]
          },
          "metadata": {},
          "execution_count": 116
        }
      ]
    },
    {
      "cell_type": "code",
      "source": [],
      "metadata": {
        "id": "0_1zhjT2qMPG"
      },
      "execution_count": null,
      "outputs": []
    }
  ]
}